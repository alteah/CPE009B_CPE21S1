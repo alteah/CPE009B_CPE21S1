{
  "nbformat": 4,
  "nbformat_minor": 0,
  "metadata": {
    "colab": {
      "provenance": [],
      "authorship_tag": "ABX9TyNwF6Pcxd3O1oegq08YxNmE",
      "include_colab_link": true
    },
    "kernelspec": {
      "name": "python3",
      "display_name": "Python 3"
    },
    "language_info": {
      "name": "python"
    }
  },
  "cells": [
    {
      "cell_type": "markdown",
      "metadata": {
        "id": "view-in-github",
        "colab_type": "text"
      },
      "source": [
        "<a href=\"https://colab.research.google.com/github/alteah/CPE009B_CPE21S1/blob/main/Exercise2.ipynb\" target=\"_parent\"><img src=\"https://colab.research.google.com/assets/colab-badge.svg\" alt=\"Open In Colab\"/></a>"
      ]
    },
    {
      "cell_type": "code",
      "execution_count": 7,
      "metadata": {
        "colab": {
          "base_uri": "https://localhost:8080/"
        },
        "id": "qWcpSp94P-Nr",
        "outputId": "b6392b67-1fe7-4030-eb11-512cb152882d"
      },
      "outputs": [
        {
          "output_type": "stream",
          "name": "stdout",
          "text": [
            "Enter a number: 72\n",
            "Failed\n"
          ]
        }
      ],
      "source": [
        "grade = int(input(\"Enter a number: \"))\n",
        "if grade <0:\n",
        "     print (\"Negative number is not accepted\")\n",
        "elif grade >= 75:\n",
        "     print (\"Passed\")\n",
        "elif grade ==74:\n",
        "     print (\"Remedial\")\n",
        "elif grade < 74:\n",
        "     print (\"Failed\")"
      ]
    }
  ]
}