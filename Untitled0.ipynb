{
  "nbformat": 4,
  "nbformat_minor": 0,
  "metadata": {
    "colab": {
      "provenance": [],
      "authorship_tag": "ABX9TyNUrh29aSYWCBclCaLdwPLS",
      "include_colab_link": true
    },
    "kernelspec": {
      "name": "python3",
      "display_name": "Python 3"
    },
    "language_info": {
      "name": "python"
    }
  },
  "cells": [
    {
      "cell_type": "markdown",
      "metadata": {
        "id": "view-in-github",
        "colab_type": "text"
      },
      "source": [
        "<a href=\"https://colab.research.google.com/github/alteah/CPE009B_CPE21S1/blob/main/Untitled0.ipynb\" target=\"_parent\"><img src=\"https://colab.research.google.com/assets/colab-badge.svg\" alt=\"Open In Colab\"/></a>"
      ]
    },
    {
      "cell_type": "code",
      "execution_count": 15,
      "metadata": {
        "colab": {
          "base_uri": "https://localhost:8080/"
        },
        "id": "CRkXa6jyZKI7",
        "outputId": "310fa915-8613-47b2-eb90-0c670c3282c5"
      },
      "outputs": [
        {
          "output_type": "stream",
          "name": "stdout",
          "text": [
            "Enter a number: 100\n",
            "Passed\n"
          ]
        }
      ],
      "source": [
        "grade = int(input(\"Enter a number: \"))\n",
        "if grade <0:\n",
        "     print (\"Negative number is not accepted\")\n",
        "elif grade >= 75:\n",
        "     print (\"Passed\")\n",
        "elif grade ==74:\n",
        "     print (\"Remedial\")\n",
        "elif grade < 74:\n",
        "     print (\"Failed\")\n"
      ]
    }
  ]
}