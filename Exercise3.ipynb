{
  "nbformat": 4,
  "nbformat_minor": 0,
  "metadata": {
    "colab": {
      "provenance": [],
      "authorship_tag": "ABX9TyNqfG7VvG88A/YobKViHiWa",
      "include_colab_link": true
    },
    "kernelspec": {
      "name": "python3",
      "display_name": "Python 3"
    },
    "language_info": {
      "name": "python"
    }
  },
  "cells": [
    {
      "cell_type": "markdown",
      "metadata": {
        "id": "view-in-github",
        "colab_type": "text"
      },
      "source": [
        "<a href=\"https://colab.research.google.com/github/alteah/CPE009B_CPE21S1/blob/main/Exercise3.ipynb\" target=\"_parent\"><img src=\"https://colab.research.google.com/assets/colab-badge.svg\" alt=\"Open In Colab\"/></a>"
      ]
    },
    {
      "cell_type": "code",
      "execution_count": 13,
      "metadata": {
        "colab": {
          "base_uri": "https://localhost:8080/"
        },
        "id": "6V-67U_RXzXH",
        "outputId": "5c8c20e5-83fb-4dae-8722-9e54180707a1"
      },
      "outputs": [
        {
          "output_type": "stream",
          "name": "stdout",
          "text": [
            "Enter the Rectangle's length: 5\n",
            "Enter the Rectangle's width: 6\n",
            "Perimeter of the rectangle: 22\n",
            "Area of the rectangle: 30\n"
          ]
        }
      ],
      "source": [
        "class Rectangle:\n",
        "    def __init__(self, length, width):\n",
        "        self.length = length\n",
        "        self.width = width\n",
        "\n",
        "    def perimeter(self):\n",
        "        return 2*(self.length+self.width)\n",
        "\n",
        "    def area(self):\n",
        "        return self.length*self.width\n",
        "\n",
        "length = int(input(\"Enter the Rectangle's length: \"))\n",
        "width = int(input(\"Enter the Rectangle's width: \"))\n",
        "\n",
        "rectangle = Rectangle(length, width)\n",
        "\n",
        "print(f\"Perimeter of the rectangle: {rectangle.perimeter()}\")\n",
        "print(f\"Area of the rectangle: {rectangle.area()}\")\n"
      ]
    }
  ]
}