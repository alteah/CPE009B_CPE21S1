{
  "nbformat": 4,
  "nbformat_minor": 0,
  "metadata": {
    "colab": {
      "provenance": [],
      "authorship_tag": "ABX9TyNkl6DRvLF2DJzUmokYiVJL",
      "include_colab_link": true
    },
    "kernelspec": {
      "name": "python3",
      "display_name": "Python 3"
    },
    "language_info": {
      "name": "python"
    }
  },
  "cells": [
    {
      "cell_type": "markdown",
      "metadata": {
        "id": "view-in-github",
        "colab_type": "text"
      },
      "source": [
        "<a href=\"https://colab.research.google.com/github/alteah/CPE009B_CPE21S1/blob/main/dhjs.ipynb\" target=\"_parent\"><img src=\"https://colab.research.google.com/assets/colab-badge.svg\" alt=\"Open In Colab\"/></a>"
      ]
    },
    {
      "cell_type": "code",
      "execution_count": null,
      "metadata": {
        "colab": {
          "base_uri": "https://localhost:8080/"
        },
        "id": "qWcpSp94P-Nr",
        "outputId": "c78ce2df-e2b0-4f67-ce7d-4cf6313a03ce"
      },
      "outputs": [
        {
          "output_type": "stream",
          "name": "stdout",
          "text": [
            "Enter a number: 100\n",
            "Passed\n"
          ]
        }
      ],
      "source": [
        "grade = int(input(\"Enter a number: \"))\n",
        "if grade < 0:\n",
        "    print(\"Invalid input: Negative numbers are not accepted\")\n",
        "elif grade >= 75:\n",
        "    print(\"Passed\")\n",
        "elif grade == 74:\n",
        "    print(\"Remedial\")\n",
        "else:\n",
        "    print(\"Failed\")"
      ]
    }
  ]
}