{
  "nbformat": 4,
  "nbformat_minor": 0,
  "metadata": {
    "colab": {
      "provenance": [],
      "authorship_tag": "ABX9TyMUzCOkBGOEZU4sTjPG4C+s",
      "include_colab_link": true
    },
    "kernelspec": {
      "name": "python3",
      "display_name": "Python 3"
    },
    "language_info": {
      "name": "python"
    }
  },
  "cells": [
    {
      "cell_type": "markdown",
      "metadata": {
        "id": "view-in-github",
        "colab_type": "text"
      },
      "source": [
        "<a href=\"https://colab.research.google.com/github/alteah/CPE009B_CPE21S1/blob/main/Exercise5.ipynb\" target=\"_parent\"><img src=\"https://colab.research.google.com/assets/colab-badge.svg\" alt=\"Open In Colab\"/></a>"
      ]
    },
    {
      "cell_type": "code",
      "execution_count": 15,
      "metadata": {
        "colab": {
          "base_uri": "https://localhost:8080/"
        },
        "id": "BmzB-7DmRg7T",
        "outputId": "3adf458e-e494-4991-fa18-7101d4706588"
      },
      "outputs": [
        {
          "output_type": "stream",
          "name": "stdout",
          "text": [
            "As a student, I do studying, playing, writing, coding\n",
            "As a teacher, I do teaching, sing, socialize\n"
          ]
        }
      ],
      "source": [
        "#Polymorphism\n",
        "\n",
        "class Person:\n",
        "  def __init__(self,name,age):\n",
        "    self.name = name\n",
        "    self.age = age\n",
        "\n",
        "#Inherits the attributes of a person\n",
        "class Student(Person):\n",
        "  def traits(self):\n",
        "    return f\"studying, playing, writing, coding\"\n",
        "\n",
        "class Teacher(Person):\n",
        "  def traits(self):\n",
        "    return f\"teaching, sing, socialize\"\n",
        "\n",
        "student = Student(\"Alteah\", 20)\n",
        "teacher = Teacher(\"Ma'am Sayo\", 41)\n",
        "\n",
        "\n",
        "print(\"As a student, I do\",student.traits())\n",
        "print(\"As a teacher, I do\",teacher.traits())\n"
      ]
    },
    {
      "cell_type": "code",
      "source": [
        "class Movie:\n",
        "  def __init__(self, type):\n",
        "    self.type = type\n",
        "\n",
        "class PatemaInverted(Movie):\n",
        "  def genre(self):\n",
        "    return f\"romance, fantasy, and sci-fi.\"\n",
        "\n",
        "class BlackClover(Movie):\n",
        "  def genre(self):\n",
        "    return f\"fantasy and adventure.\"\n",
        "\n",
        "blackclover = BlackClover(\"Anime\")\n",
        "patemainverted = PatemaInverted(\"Anime\")\n",
        "\n",
        "print(\"The genre of Patema Inverted movie is\",patemainverted.genre())\n",
        "print(\"The genre of Black Clover movie is\",blackclover.genre())"
      ],
      "metadata": {
        "colab": {
          "base_uri": "https://localhost:8080/"
        },
        "id": "hqCipmEldwiI",
        "outputId": "33d5fcee-7de3-40e2-f5f7-cf0b7d69aefe"
      },
      "execution_count": 27,
      "outputs": [
        {
          "output_type": "stream",
          "name": "stdout",
          "text": [
            "The genre of Patema Inverted movie is romance, fantasy, and sci-fi.\n",
            "The genre of Black Clover movie is fantasy and adventure.\n"
          ]
        }
      ]
    }
  ]
}