{
  "nbformat": 4,
  "nbformat_minor": 0,
  "metadata": {
    "colab": {
      "provenance": [],
      "authorship_tag": "ABX9TyO1zWpNSOQn65VuDdQ64r1q",
      "include_colab_link": true
    },
    "kernelspec": {
      "name": "python3",
      "display_name": "Python 3"
    },
    "language_info": {
      "name": "python"
    }
  },
  "cells": [
    {
      "cell_type": "markdown",
      "metadata": {
        "id": "view-in-github",
        "colab_type": "text"
      },
      "source": [
        "<a href=\"https://colab.research.google.com/github/alteah/CPE009B_CPE21S1/blob/main/Exercise_4.ipynb\" target=\"_parent\"><img src=\"https://colab.research.google.com/assets/colab-badge.svg\" alt=\"Open In Colab\"/></a>"
      ]
    },
    {
      "cell_type": "code",
      "execution_count": null,
      "metadata": {
        "colab": {
          "base_uri": "https://localhost:8080/"
        },
        "id": "nq5koQeEKq0x",
        "outputId": "950a26c8-6cbe-44a8-cbc5-de78266b282c"
      },
      "outputs": [
        {
          "output_type": "execute_result",
          "data": {
            "text/plain": [
              "7"
            ]
          },
          "metadata": {},
          "execution_count": 3
        }
      ],
      "source": [
        "class foo:\n",
        "  def __init__(self, a, b):\n",
        "   self.a = a\n",
        "   self.b = b\n",
        "  def add(self):\n",
        "    return self.a + self.b\n",
        "foo_object = foo(3,4)\n",
        "foo_object.add()"
      ]
    },
    {
      "cell_type": "code",
      "source": [
        "class foo:\n",
        "  def __init__(self, a, b):\n",
        "   self._a = a\n",
        "   self._b = b\n",
        "  def add(self):\n",
        "    return self._a + self._b\n",
        "foo_object = foo(3,4)\n",
        "foo_object.add()"
      ],
      "metadata": {
        "colab": {
          "base_uri": "https://localhost:8080/"
        },
        "id": "m5dX6r8SM_n3",
        "outputId": "c4539b40-4139-4fcb-b404-776f8304225a"
      },
      "execution_count": null,
      "outputs": [
        {
          "output_type": "execute_result",
          "data": {
            "text/plain": [
              "7"
            ]
          },
          "metadata": {},
          "execution_count": 5
        }
      ]
    },
    {
      "cell_type": "code",
      "source": [
        "class Person:\n",
        "  def __init__(self,name,age):\n",
        "    self.name = name\n",
        "    self.age = age\n",
        "  def display(self):\n",
        "    return f\"My name is {self.name} and my age is {self.age}\"\n",
        "\n",
        "p1 = Person(\"Ana\", 15)\n",
        "p1.display()\n"
      ],
      "metadata": {
        "colab": {
          "base_uri": "https://localhost:8080/",
          "height": 35
        },
        "id": "J-c380yXN9r_",
        "outputId": "ace1b0e2-6ecd-4563-d173-05640523c3c4"
      },
      "execution_count": null,
      "outputs": [
        {
          "output_type": "execute_result",
          "data": {
            "text/plain": [
              "'My name is Ana and my age is 15'"
            ],
            "application/vnd.google.colaboratory.intrinsic+json": {
              "type": "string"
            }
          },
          "metadata": {},
          "execution_count": 9
        }
      ]
    },
    {
      "cell_type": "code",
      "source": [
        "class Counter:\n",
        "  def __init__(self):\n",
        "    self.current = 0\n",
        "  def increment(self):\n",
        "    self.current += 1\n",
        "  def value(self):\n",
        "    return self.current\n",
        "  def reset(self):\n",
        "    self.current = 0\n",
        "\n",
        "counter = Counter()\n",
        "counter.increment()\n",
        "counter.increment()\n",
        "counter.increment()\n",
        "print(counter.value())\n"
      ],
      "metadata": {
        "colab": {
          "base_uri": "https://localhost:8080/"
        },
        "id": "LjC8svGZNXIu",
        "outputId": "651de28f-bd01-429a-f9ac-e9010d858f25"
      },
      "execution_count": null,
      "outputs": [
        {
          "output_type": "stream",
          "name": "stdout",
          "text": [
            "3\n"
          ]
        }
      ]
    },
    {
      "cell_type": "code",
      "source": [
        "class RegularPolygon:\n",
        "  def __init__(self,side):\n",
        "    self.side = side\n",
        "class Square(RegularPolygon):\n",
        "  def area(self):\n",
        "    return self.side * self.side\n",
        "class EquilateralTriangle(RegularPolygon):\n",
        "  def area(self):\n",
        "    return self.side * self.side * 0.433\n",
        "\n",
        "square = Square(5)\n",
        "triangle = EquilateralTriangle(5)\n",
        "\n",
        "print(\"Area of the square:\", square.area())\n",
        "print(\"Area of the equilateral triangle:\", triangle.area())\n"
      ],
      "metadata": {
        "colab": {
          "base_uri": "https://localhost:8080/"
        },
        "id": "Yo5mMpbiRCWn",
        "outputId": "489fdf90-bd90-46f4-8045-22fbe9dfa415"
      },
      "execution_count": null,
      "outputs": [
        {
          "output_type": "stream",
          "name": "stdout",
          "text": [
            "Area of the square: 25\n",
            "Area of the equilateral triangle: 10.825\n"
          ]
        }
      ]
    },
    {
      "cell_type": "code",
      "source": [
        "#Sign Application 1\n",
        "\n",
        "\n",
        "class Student:\n",
        "  def __init__(self, name, pre, mid, fin):\n",
        "    self.name = name\n",
        "    self.__pre = pre\n",
        "    self.__mid = mid\n",
        "    self.__fin = fin\n",
        "\n",
        "  def Grade(self):\n",
        "    return (self.__pre + self.__mid + self.__fin) / 3\n",
        "\n",
        "\n",
        "  def display(self):\n",
        "        print(f\"Student Name: {self.name}\")\n",
        "        print(f\"Average Grade: {self.Grade():.2f}\")\n",
        "\n",
        "std1 = Student(\"Alteah\", 90, 78, 86)\n",
        "std2 = Student(\"Student 2\", 80, 84, 99)\n",
        "std3 = Student(\"Mariane\", 56, 34, 99)\n",
        "\n",
        "std1.display()\n",
        "std2.display()\n",
        "std3.display()\n",
        "\n",
        "\n",
        "\n"
      ],
      "metadata": {
        "colab": {
          "base_uri": "https://localhost:8080/"
        },
        "id": "5WkogcvOSZtO",
        "outputId": "54a81242-c2f9-42c6-d52d-f2cd198e94f0"
      },
      "execution_count": 36,
      "outputs": [
        {
          "output_type": "stream",
          "name": "stdout",
          "text": [
            "Student Name: Alteah\n",
            "Average Grade: 84.67\n",
            "Student Name: Student 2\n",
            "Average Grade: 87.67\n",
            "Student Name: Mariane\n",
            "Average Grade: 63.00\n"
          ]
        }
      ]
    }
  ]
}